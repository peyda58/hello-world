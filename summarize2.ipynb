{
  "nbformat": 4,
  "nbformat_minor": 0,
  "metadata": {
    "colab": {
      "name": " summarize2.ipynb",
      "provenance": [],
      "collapsed_sections": [],
      "authorship_tag": "ABX9TyNnvlgHk3O/zSsTAvHvWheV",
      "include_colab_link": true
    },
    "kernelspec": {
      "name": "python3",
      "display_name": "Python 3"
    },
    "language_info": {
      "name": "python"
    }
  },
  "cells": [
    {
      "cell_type": "markdown",
      "metadata": {
        "id": "view-in-github",
        "colab_type": "text"
      },
      "source": [
        "<a href=\"https://colab.research.google.com/github/peyda58/hello-world/blob/master/summarize2.ipynb\" target=\"_parent\"><img src=\"https://colab.research.google.com/assets/colab-badge.svg\" alt=\"Open In Colab\"/></a>"
      ]
    },
    {
      "cell_type": "code",
      "metadata": {
        "id": "O_-RSzLkv1Cq"
      },
      "source": [
        "# -- coding: utf-8 --\n",
        "\"\"\"\n",
        "2021\n",
        "author: hossein rezaei\n",
        "\"\"\"\n",
        "import numpy as np\n",
        "import networkx as nx\n",
        "#import nltk \n",
        "from nltk.tokenize.punkt import PunktSentenceTokenizer\n",
        "from sklearn.feature_extraction.text import TfidfTransformer, CountVectorizer\n",
        "import heapq\n",
        "import sys\n",
        "import math\n",
        "import matplotlib.pyplot as plt"
      ],
      "execution_count": 93,
      "outputs": []
    },
    {
      "cell_type": "code",
      "metadata": {
        "id": "1G0QkzCbRZYW"
      },
      "source": [
        "\n",
        "# ============================ \n",
        "# ====== Load input ======\n",
        "agricultural_text = \"آب از اساسی ترین عناصری است که باعث وجود حیات می شود. همه موجودات زنده کوچک و بزرگ به این ماده نیاز دارند. بیشترین قسمت اعضاء موجودات را این مایع به شکلهای مختلف تشکیل می دهد. این مایع حیاتی باعث ایجاد ارتباط و همزیستی موجودات و گیاهان در کنار یکدیگر می شود. بیشتر فعالیت های شیمیایی درون و بیرون از بدن موجودات زنده و فرسایش و تجزیه و تحلیل عناصر غیرزنده در کنار آب انجام می شود. می توان گفت، اولین گروه موجودات زنده که از آب استفاده می  کنند و باعث ایجاد چرخه ی زیستی می شوند، گیاهان هستند. \"  "
      ],
      "execution_count": 94,
      "outputs": []
    },
    {
      "cell_type": "code",
      "metadata": {
        "id": "gOOQxLPuRNez"
      },
      "source": [
        "# ============================     \n",
        "# ====== PreProcessing: Sentence Splitting====== \n",
        "sentences_tokens = agricultural_text.split(\".\")\n",
        "documents = [];\n",
        "for sen in sentences_tokens:\n",
        "    if len(sen)>2:\n",
        "        documents.append(sen)"
      ],
      "execution_count": 95,
      "outputs": []
    },
    {
      "cell_type": "code",
      "metadata": {
        "id": "_dlTQFMoRDgp"
      },
      "source": [
        "        \n",
        "# ============================     \n",
        "# ====== PreProcessing: Tokenization====== \n",
        "dictOfWords = {}\n",
        "for index, sentence in enumerate(documents):\n",
        "    tokenizedWords = sentence.split(' ')\n",
        "    dictOfWords[index] = [(word,tokenizedWords.count(word)) for word in tokenizedWords]\n"
      ],
      "execution_count": 96,
      "outputs": []
    },
    {
      "cell_type": "code",
      "metadata": {
        "id": "iSGJ3j3CQxyC"
      },
      "source": [
        "\n",
        "# ============================     \n",
        "# ====== Calculate term frequency (TF)====== \n",
        "termFrequency = {}\n",
        "for i in range(0, len(documents)):\n",
        "    listOfNoDuplicates = []\n",
        "    for wordFreq in dictOfWords[i]:\n",
        "        if wordFreq not in listOfNoDuplicates:\n",
        "            listOfNoDuplicates.append(wordFreq)\n",
        "        termFrequency[i] = listOfNoDuplicates\n",
        "\n",
        "# =============================================================================\n",
        "#P.S: The result were better without StopWords Removal and persian Stemming\n",
        "#=====================remove stopwords=============================     \n",
        "#stopwords_list = stopwords.words('persian')\n",
        "#print(stopwords_list)\n",
        "#=====================persian Stemming=============================     \n",
        "#st = ISRIStemmer()\n",
        "#words_stemm = [st.stem(word) for word in words_tokens]\n",
        "##print(words_stemm)\n",
        "# ============================================================================\n",
        "\n"
      ],
      "execution_count": 97,
      "outputs": []
    },
    {
      "cell_type": "code",
      "metadata": {
        "id": "D-lWMpL7QVd1"
      },
      "source": [
        "# ====== Normalize====== \n",
        "#To avoid problem longer (sentences)documents \n",
        "#Third: normalized term frequency       \n",
        "normalizedTermFrequency = {}\n",
        "for i in range(0, len(documents)):\n",
        "    sentence = dictOfWords[i]\n",
        "    lenOfSentence = len(sentence)\n",
        "#    print(lenOfSentence)\n",
        "    listOfNormalized = []\n",
        "    for wordFreq in termFrequency[i]:\n",
        "        normalizedFreq = wordFreq[1]/lenOfSentence\n",
        "        listOfNormalized.append((wordFreq[0],normalizedFreq))\n",
        "    normalizedTermFrequency[i] = listOfNormalized"
      ],
      "execution_count": 98,
      "outputs": []
    },
    {
      "cell_type": "code",
      "metadata": {
        "id": "Kk0zvV5hPhu8"
      },
      "source": [
        "# ============================     \n",
        "# ====== Calculate Inverse Term Frequency (IDF)====== \n",
        "#First: put all sentences together and tokenze words\n",
        "# ============================     \n",
        "# ====== PreProcessing: Sentence Splitting and Tokenization====== \n",
        "allDocuments = ''\n",
        "for sentence in documents:\n",
        "    allDocuments += sentence + ' '\n",
        "allDocumentsTokenized = allDocuments.split(' ')\n",
        "# ============================   \n",
        "#---Calculate IDF\n",
        "allDocumentsNoDuplicates = []\n",
        "for word in allDocumentsTokenized:\n",
        "    if word not in allDocumentsNoDuplicates:\n",
        "        allDocumentsNoDuplicates.append(word)\n",
        "# ============================   \n",
        "#Second calculate the number of documents where the term t appears\n",
        "dictOfNumberOfDocumentsWithTermInside = {}\n",
        "# ovc = vocabilary OR word\n",
        "for index, voc in enumerate(allDocumentsNoDuplicates):\n",
        "    count = 0\n",
        "    for sentence in documents:\n",
        "        if voc in sentence:\n",
        "            count += 1\n",
        "    dictOfNumberOfDocumentsWithTermInside[index] = (voc, count)\n",
        "\n",
        "# ============================   \n",
        "#calculate IDF\n",
        "dictOFIDFNoDuplicates = {} \n",
        "\n",
        "for i in range(0, len(normalizedTermFrequency)):\n",
        "    listOfIDFCalcs = []\n",
        "    for word in normalizedTermFrequency[i]:\n",
        "        for x in range(0, len(dictOfNumberOfDocumentsWithTermInside)):\n",
        "            if word[0] == dictOfNumberOfDocumentsWithTermInside[x][0]:\n",
        "                listOfIDFCalcs.append((word[0],math.log(len(documents)/dictOfNumberOfDocumentsWithTermInside[x][1])))\n",
        "    dictOFIDFNoDuplicates[i] = listOfIDFCalcs\n",
        "\n",
        "# ============================   \n",
        "#---------Multiply tf by idf for tf-idf\n",
        "\n",
        "dictOFTF_IDF = {}\n",
        "for i in range(0,len(normalizedTermFrequency)):\n",
        "    listOFTF_IDF = []\n",
        "    TFsentence = normalizedTermFrequency[i]\n",
        "    IDFsentence = dictOFIDFNoDuplicates[i]\n",
        "    for x in range(0, len(TFsentence)):\n",
        "#        print(TFsentence[x][0])\n",
        "#        print(TFsentence[x][1])\n",
        "        listOFTF_IDF.append((TFsentence[x][0],TFsentence[x][1]*IDFsentence[x][1]))\n",
        "    dictOFTF_IDF[i] = listOFTF_IDF\n",
        "\n"
      ],
      "execution_count": 99,
      "outputs": []
    },
    {
      "cell_type": "code",
      "metadata": {
        "id": "aVm2UspwYysg"
      },
      "source": [
        "# the function used for tokenizing the sentences\n",
        "# tokenization of a sentence: '''provided in cell() above'''\n",
        "\n",
        "def tokenize(document):\n",
        "    # We are tokenizing using the PunktSentenceTokenizer\n",
        "    # we call an instance of this class as sentence_tokenizer\n",
        "    doc_tokenizer = PunktSentenceTokenizer()\n",
        "    \n",
        "    # tokenize() method: takes our document as input and returns a list of all the sentences in the document\n",
        "    \n",
        "    # sentences is a list containing each sentence of the document as an element\n",
        "    sentences_list = doc_tokenizer.tokenize(document)\n",
        "    return sentences_list"
      ],
      "execution_count": 100,
      "outputs": []
    },
    {
      "cell_type": "code",
      "metadata": {
        "colab": {
          "base_uri": "https://localhost:8080/"
        },
        "id": "e6YV4ayPYkA0",
        "outputId": "1c633251-f4a2-4915-c241-66aa8c478b68"
      },
      "source": [
        "sentences_list = tokenize(agricultural_text)\n",
        "\n",
        "# let us print the size of memory used by the list sentences\n",
        "print('The size of the list in Bytes is: {}'.format(sys.getsizeof(sentences_list)))\n",
        "\n",
        "# the size of one of the element of the list\n",
        "print('The size of the item 0 in Bytes is: {}'.format(sys.getsizeof(sentences_list[0])))\n",
        "\n",
        "# let us see the data type of sentences_list\n",
        "# It will be list\n",
        "print(type(sentences_list))\n",
        "\n",
        "# let us analyse the elements of the sentences\n",
        "# len() method applies on the list and provides the number of elements in the list\n",
        "print('The size of the list \"sentences\" is: {}'.format(len(sentences_list)))\n",
        "\n",
        "# print the elements of the list\n",
        "# If the input document is long, which on realistically will be wrong, we would not like to print the entire document\n",
        "for i in sentences_list:\n",
        "    print(i)"
      ],
      "execution_count": 101,
      "outputs": [
        {
          "output_type": "stream",
          "name": "stdout",
          "text": [
            "The size of the list in Bytes is: 144\n",
            "The size of the item 0 in Bytes is: 180\n",
            "<class 'list'>\n",
            "The size of the list \"sentences\" is: 6\n",
            "آب از اساسی ترین عناصری است که باعث وجود حیات می شود.\n",
            "همه موجودات زنده کوچک و بزرگ به این ماده نیاز دارند.\n",
            "بیشترین قسمت اعضاء موجودات را این مایع به شکلهای مختلف تشکیل می دهد.\n",
            "این مایع حیاتی باعث ایجاد ارتباط و همزیستی موجودات و گیاهان در کنار یکدیگر می شود.\n",
            "بیشتر فعالیت های شیمیایی درون و بیرون از بدن موجودات زنده و فرسایش و تجزیه و تحلیل عناصر غیرزنده در کنار آب انجام می شود.\n",
            "می توان گفت، اولین گروه موجودات زنده که از آب استفاده می  کنند و باعث ایجاد چرخه ی زیستی می شوند، گیاهان هستند.\n"
          ]
        }
      ]
    },
    {
      "cell_type": "code",
      "metadata": {
        "id": "tbv6OFJ4YVBz"
      },
      "source": [
        "cv = CountVectorizer()\n",
        "cv_matrix = cv.fit_transform(sentences_list)"
      ],
      "execution_count": 102,
      "outputs": []
    },
    {
      "cell_type": "code",
      "metadata": {
        "colab": {
          "base_uri": "https://localhost:8080/"
        },
        "id": "mNus6jd0ae8m",
        "outputId": "bcc21f22-c775-48d5-a733-f51901675a21"
      },
      "source": [
        "# a demo of what CountVectorizer().fit_transform(text) does\n",
        "cv_demo = CountVectorizer() # a demo object of class CountVectorizer\n",
        "\n",
        "# I have repeated the words to make a non-ambiguous array of the document text matrix \n",
        "\n",
        "text_demo = [\"آب از اساسی ترین عناصری است که باعث وجود حیات می شود. \", \"این مایع حیاتی باعث ایجاد ارتباط و همزیستی موجودات و گیاهان در کنار یکدیگر می شود. \"] \n",
        "res_demo = cv_demo.fit_transform(text_demo)\n",
        "print('Result demo array is {}'.format(res_demo.toarray()))\n",
        "\n",
        "# Result is 2-d matrix containing document text matrix\n",
        "# Notice that in the second row, there is 2.\n",
        "# also, bad is repeated twice in that sentence.\n",
        "# so we can infer that 2 is corresponding to the word 'bad'\n",
        "print('Feature list: {}'.format(cv_demo.get_feature_names()))"
      ],
      "execution_count": 118,
      "outputs": [
        {
          "output_type": "stream",
          "name": "stdout",
          "text": [
            "Result demo array is [[1 0 1 1 1 0 0 1 1 1 0 0 1 1 0 0 1 0 1 0 1 0 0]\n",
            " [0 1 0 0 0 1 1 1 0 0 1 1 1 0 1 1 1 1 0 1 0 1 1]]\n",
            "Feature list: ['آب', 'ارتباط', 'از', 'اساسی', 'است', 'ایجاد', 'این', 'باعث', 'ترین', 'حیات', 'حیاتی', 'در', 'شود', 'عناصری', 'مایع', 'موجودات', 'می', 'همزیستی', 'وجود', 'کنار', 'که', 'گیاهان', 'یکدیگر']\n"
          ]
        }
      ]
    },
    {
      "cell_type": "code",
      "metadata": {
        "colab": {
          "base_uri": "https://localhost:8080/"
        },
        "id": "PEA9W_0IbJE3",
        "outputId": "e0ee07a1-9564-44ff-8087-29187070efb4"
      },
      "source": [
        "\n",
        "# Tnormalized: document-term matrix normalized (value 0-1) according to the TF-IDF\n",
        "# TF(Term Frequency): the no. of times a term(a word here) appears in the current document(single sentence here)\n",
        "# IDF(Inverse Document Frequency): the no. of times a term(a word here) appears in the entire corpus\n",
        "# Corpus: set of all sentences\n",
        "\n",
        "normal_matrix = TfidfTransformer().fit_transform(cv_matrix)\n",
        "print(normal_matrix.toarray())"
      ],
      "execution_count": 104,
      "outputs": [
        {
          "output_type": "stream",
          "name": "stdout",
          "text": [
            "[[0.23269083 0.         0.23269083 0.33610667 0.33610667 0.\n",
            "  0.         0.         0.         0.         0.         0.23269083\n",
            "  0.         0.         0.         0.         0.         0.\n",
            "  0.         0.         0.33610667 0.         0.         0.33610667\n",
            "  0.         0.         0.         0.         0.         0.\n",
            "  0.         0.         0.23269083 0.         0.         0.\n",
            "  0.         0.33610667 0.         0.         0.         0.\n",
            "  0.         0.         0.         0.         0.17219643 0.\n",
            "  0.         0.         0.         0.         0.33610667 0.\n",
            "  0.         0.         0.27561228 0.         0.         0.\n",
            "  0.         0.        ]\n",
            " [0.         0.         0.         0.         0.         0.\n",
            "  0.         0.         0.         0.         0.24641518 0.\n",
            "  0.         0.3559306  0.29186818 0.         0.         0.\n",
            "  0.         0.         0.         0.         0.         0.\n",
            "  0.         0.3559306  0.         0.         0.         0.\n",
            "  0.24641518 0.         0.         0.         0.         0.\n",
            "  0.         0.         0.         0.         0.         0.\n",
            "  0.3559306  0.         0.         0.18235276 0.         0.3559306\n",
            "  0.         0.         0.         0.3559306  0.         0.\n",
            "  0.         0.         0.         0.3559306  0.         0.\n",
            "  0.         0.        ]\n",
            " [0.         0.         0.         0.         0.         0.\n",
            "  0.31084844 0.         0.         0.         0.21520424 0.\n",
            "  0.         0.         0.25490017 0.         0.         0.31084844\n",
            "  0.         0.         0.         0.31084844 0.         0.\n",
            "  0.         0.         0.         0.         0.31084844 0.31084844\n",
            "  0.         0.         0.         0.         0.31084844 0.\n",
            "  0.         0.         0.         0.         0.         0.31084844\n",
            "  0.         0.25490017 0.31084844 0.15925596 0.15925596 0.\n",
            "  0.         0.         0.         0.         0.         0.\n",
            "  0.         0.         0.         0.         0.         0.\n",
            "  0.         0.        ]\n",
            " [0.         0.32747369 0.         0.         0.         0.\n",
            "  0.         0.         0.         0.26853311 0.2267141  0.2267141\n",
            "  0.         0.         0.         0.         0.         0.\n",
            "  0.         0.         0.         0.         0.         0.\n",
            "  0.32747369 0.         0.26853311 0.         0.         0.\n",
            "  0.         0.         0.2267141  0.         0.         0.\n",
            "  0.         0.         0.         0.         0.         0.\n",
            "  0.         0.26853311 0.         0.16777352 0.16777352 0.\n",
            "  0.         0.         0.32747369 0.         0.         0.\n",
            "  0.26853311 0.         0.         0.         0.         0.\n",
            "  0.26853311 0.32747369]\n",
            " [0.16897237 0.         0.16897237 0.         0.         0.\n",
            "  0.         0.24406954 0.         0.         0.         0.\n",
            "  0.24406954 0.         0.         0.24406954 0.24406954 0.\n",
            "  0.24406954 0.24406954 0.         0.         0.         0.\n",
            "  0.         0.         0.20014051 0.24406954 0.         0.\n",
            "  0.16897237 0.         0.16897237 0.         0.         0.24406954\n",
            "  0.24406954 0.         0.24406954 0.24406954 0.24406954 0.\n",
            "  0.         0.         0.         0.12504335 0.12504335 0.\n",
            "  0.24406954 0.         0.         0.         0.         0.\n",
            "  0.20014051 0.         0.         0.         0.         0.\n",
            "  0.         0.        ]\n",
            " [0.17013038 0.         0.17013038 0.         0.         0.24574221\n",
            "  0.         0.         0.24574221 0.20151213 0.         0.17013038\n",
            "  0.         0.         0.         0.         0.         0.\n",
            "  0.         0.         0.         0.         0.24574221 0.\n",
            "  0.         0.         0.         0.         0.         0.\n",
            "  0.17013038 0.24574221 0.         0.24574221 0.         0.\n",
            "  0.         0.         0.         0.         0.         0.\n",
            "  0.         0.         0.         0.1259003  0.37770091 0.\n",
            "  0.         0.24574221 0.         0.         0.         0.24574221\n",
            "  0.         0.24574221 0.20151213 0.         0.24574221 0.24574221\n",
            "  0.20151213 0.        ]]\n"
          ]
        }
      ]
    },
    {
      "cell_type": "code",
      "metadata": {
        "colab": {
          "base_uri": "https://localhost:8080/"
        },
        "id": "GnmR8VZybQEG",
        "outputId": "eb5b4fdd-d2d0-411b-e360-8cb8bc63d634"
      },
      "source": [
        "print(normal_matrix.T.toarray)\n",
        "res_graph = normal_matrix * normal_matrix.T\n",
        "# plt.spy(res_graph)"
      ],
      "execution_count": 105,
      "outputs": [
        {
          "output_type": "stream",
          "name": "stdout",
          "text": [
            "<bound method _cs_matrix.toarray of <62x6 sparse matrix of type '<class 'numpy.float64'>'\n",
            "\twith 89 stored elements in Compressed Sparse Column format>>\n"
          ]
        }
      ]
    },
    {
      "cell_type": "code",
      "metadata": {
        "colab": {
          "base_uri": "https://localhost:8080/",
          "height": 370
        },
        "id": "OONjsQCLbiiq",
        "outputId": "2d5a132d-b173-4c30-e611-57893189b0f2"
      },
      "source": [
        "# drawing a graph to proceed for the textrank algorithm\n",
        "# nx_graph is a graph developed using the networkx library\n",
        "# each node represents a sentence\n",
        "# an edge represents that they have words in common\n",
        "# the edge weight is the number of words that are common in both of the sentences(nodes)\n",
        "# nx.draw() method is used to draw the graph created\n",
        "\n",
        "nx_graph = nx.from_scipy_sparse_matrix(res_graph)\n",
        "nx.draw_circular(nx_graph)\n",
        "print('Number of edges {}'.format(nx_graph.number_of_edges()))\n",
        "print('Number of vertices {}'.format(nx_graph.number_of_nodes()))\n",
        "plt.show()\n",
        "print('The memory used by the graph in Bytes is: {}'.format(sys.getsizeof(nx_graph)))"
      ],
      "execution_count": 106,
      "outputs": [
        {
          "output_type": "stream",
          "name": "stdout",
          "text": [
            "Number of edges 20\n",
            "Number of vertices 6\n"
          ]
        },
        {
          "output_type": "display_data",
          "data": {
            "image/png": "[encoded data removed]",
            "text/plain": [
              "<Figure size 432x288 with 1 Axes>"
            ]
          },
          "metadata": {}
        },
        {
          "output_type": "stream",
          "name": "stdout",
          "text": [
            "The memory used by the graph in Bytes is: 64\n"
          ]
        }
      ]
    },
    {
      "cell_type": "code",
      "metadata": {
        "colab": {
          "base_uri": "https://localhost:8080/"
        },
        "id": "i-JQouH1V0BK",
        "outputId": "9795005f-f9fa-4d88-d6bb-382bbfa37af7"
      },
      "source": [
        "# ranks is a dictionary with key=node(sentences) and value=textrank (the rank of each of the sentences)\n",
        "ranks = nx.pagerank(nx_graph)\n",
        "\n",
        "# analyse the data type of ranks\n",
        "print(type(ranks))\n",
        "print('The size used by the dictionary in Bytes is: {}'.format(sys.getsizeof(ranks)))\n",
        "\n",
        "# print the dictionary\n",
        "for i in ranks:\n",
        "    print(i, ranks[i])"
      ],
      "execution_count": 107,
      "outputs": [
        {
          "output_type": "stream",
          "name": "stdout",
          "text": [
            "<class 'dict'>\n",
            "The size used by the dictionary in Bytes is: 376\n",
            "0 0.16083681578387968\n",
            "1 0.1526724142479552\n",
            "2 0.15907979373686082\n",
            "3 0.1834834013634465\n",
            "4 0.1647746761827282\n",
            "5 0.1791528986851292\n"
          ]
        }
      ]
    },
    {
      "cell_type": "code",
      "metadata": {
        "id": "ypTQoiTSU4Fd"
      },
      "source": [
        "# enumerate method: returns an enumerate object\n",
        "# Use of list Comprehensions\n",
        "# O/p: sentence_array is the sorted(descending order w.r.t. score value) 2-d array of ranks[sentence] and sentence \n",
        "# For example, if there are two sentences: S1 (with a score of S1 = s1) and S2 with score s2, with s2>s1\n",
        "# then sentence_array is [[s2, S2], [s1, S1]]\n",
        "sentence_array = sorted(((ranks[i], s) for i, s in enumerate(sentences_list)), reverse=True)\n",
        "sentence_array = np.asarray(sentence_array)"
      ],
      "execution_count": 108,
      "outputs": []
    },
    {
      "cell_type": "code",
      "metadata": {
        "id": "8ph4TiF1YDD-"
      },
      "source": [
        "# as sentence_array is in descending order wrt score value\n",
        "# fmax is the largest score value(the score of first element)\n",
        "# fmin is the smallest score value(the score of last element)\n",
        "\n",
        "rank_max = float(sentence_array[0][0])\n",
        "rank_min = float(sentence_array[len(sentence_array) - 1][0])"
      ],
      "execution_count": 109,
      "outputs": []
    },
    {
      "cell_type": "code",
      "metadata": {
        "colab": {
          "base_uri": "https://localhost:8080/"
        },
        "id": "adtnBJ1kYN6P",
        "outputId": "a9a8f81f-13cd-498e-c507-0f9da693165a"
      },
      "source": [
        "# print the largest and smallest value of scores of the sentence\n",
        "print(rank_max)\n",
        "print(rank_min)"
      ],
      "execution_count": 110,
      "outputs": [
        {
          "output_type": "stream",
          "name": "stdout",
          "text": [
            "0.1834834013634465\n",
            "0.1526724142479552\n"
          ]
        }
      ]
    },
    {
      "cell_type": "code",
      "metadata": {
        "colab": {
          "base_uri": "https://localhost:8080/"
        },
        "id": "QY1nybVUYWY3",
        "outputId": "db2a28e1-3af2-4e14-b6d1-5b0864d81aaa"
      },
      "source": [
        "# Normalization of the scores\n",
        "# so that it comes out in the range 0-1\n",
        "# fmax becomes 1\n",
        "# fmin becomes 0\n",
        "# store the normalized values in the list temp_array\n",
        "\n",
        "temp_array = []\n",
        "\n",
        "# if all sentences have equal ranks, means they are all the same\n",
        "# taking any sentence will give the summary, say the first sentence\n",
        "flag = 0\n",
        "if rank_max - rank_min == 0:\n",
        "    temp_array.append(0)\n",
        "    flag = 1\n",
        "\n",
        "# If the sentence has different ranks\n",
        "if flag != 1:\n",
        "    for i in range(0, len(sentence_array)):\n",
        "        temp_array.append((float(sentence_array[i][0]) - rank_min) / (rank_max - rank_min))\n",
        "\n",
        "print(len(temp_array))"
      ],
      "execution_count": 111,
      "outputs": [
        {
          "output_type": "stream",
          "name": "stdout",
          "text": [
            "6\n"
          ]
        }
      ]
    },
    {
      "cell_type": "code",
      "metadata": {
        "id": "Gr5nQZTtYiFS"
      },
      "source": [
        "# Calculation of threshold:\n",
        "# We take the mean value of normalized scores\n",
        "# any sentence with the normalized score 0.2 more than the mean value is considered to be \n",
        "threshold = (sum(temp_array) / len(temp_array)) + 0.2"
      ],
      "execution_count": 112,
      "outputs": []
    },
    {
      "cell_type": "code",
      "metadata": {
        "id": "ZaAmMoxDYoEm"
      },
      "source": [
        "# Separate out the sentences that satiasfy the criteria of having a score above the threshold\n",
        "sentence_list = []\n",
        "if len(temp_array) > 1:\n",
        "    for i in range(0, len(temp_array)):\n",
        "        if temp_array[i] > threshold:\n",
        "                sentence_list.append(sentence_array[i][1])\n",
        "else:\n",
        "    sentence_list.append(sentence_array[0][1])"
      ],
      "execution_count": 113,
      "outputs": []
    },
    {
      "cell_type": "code",
      "metadata": {
        "id": "ShXQiLrjYwmY"
      },
      "source": [
        "model = sentence_list"
      ],
      "execution_count": 114,
      "outputs": []
    },
    {
      "cell_type": "code",
      "metadata": {
        "colab": {
          "base_uri": "https://localhost:8080/"
        },
        "id": "W4lOe35IY7jR",
        "outputId": "1c9c87d6-6fa1-4af2-aa05-d98d324122fa"
      },
      "source": [
        "# print(sentence_list)\n",
        "summary = \" \".join(str(x) for x in sentence_list)\n",
        "print(summary)\n",
        "# save the data in another file, names sum.txt\n",
        "f = open('final3.txt', 'a+')\n",
        "#print(type(f))\n",
        "f.write('\\n')\n",
        "f.write(summary)\n",
        "f.close"
      ],
      "execution_count": 115,
      "outputs": [
        {
          "output_type": "stream",
          "name": "stdout",
          "text": [
            "این مایع حیاتی باعث ایجاد ارتباط و همزیستی موجودات و گیاهان در کنار یکدیگر می شود. می توان گفت، اولین گروه موجودات زنده که از آب استفاده می  کنند و باعث ایجاد چرخه ی زیستی می شوند، گیاهان هستند.\n"
          ]
        },
        {
          "output_type": "execute_result",
          "data": {
            "text/plain": [
              "<function TextIOWrapper.close>"
            ]
          },
          "metadata": {},
          "execution_count": 115
        }
      ]
    },
    {
      "cell_type": "code",
      "metadata": {
        "colab": {
          "base_uri": "https://localhost:8080/"
        },
        "id": "IeUUW31DZH7u",
        "outputId": "021af8a6-d3bf-4f0d-8d58-1a7cedfab2a9"
      },
      "source": [
        "for lines in sentence_list:\n",
        "    print(lines)"
      ],
      "execution_count": 116,
      "outputs": [
        {
          "output_type": "stream",
          "name": "stdout",
          "text": [
            "این مایع حیاتی باعث ایجاد ارتباط و همزیستی موجودات و گیاهان در کنار یکدیگر می شود.\n",
            "می توان گفت، اولین گروه موجودات زنده که از آب استفاده می  کنند و باعث ایجاد چرخه ی زیستی می شوند، گیاهان هستند.\n"
          ]
        }
      ]
    }
  ]
}